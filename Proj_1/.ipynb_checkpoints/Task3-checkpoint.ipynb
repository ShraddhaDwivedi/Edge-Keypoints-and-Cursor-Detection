{
 "cells": [
  {
   "cell_type": "code",
   "execution_count": 1,
   "metadata": {},
   "outputs": [
    {
     "name": "stdout",
     "output_type": "stream",
     "text": [
      "Process starts\n",
      "Image at 'C:/Users/Shraddha/Desktop/CVIP/Project_1/task3/pos_1.jpg'\n",
      "\tTemplate Found\n"
     ]
    },
    {
     "ename": "NameError",
     "evalue": "name 'writeImage' is not defined",
     "output_type": "error",
     "traceback": [
      "\u001b[1;31m---------------------------------------------------------------------------\u001b[0m",
      "\u001b[1;31mNameError\u001b[0m                                 Traceback (most recent call last)",
      "\u001b[1;32m<ipython-input-1-f98654364c20>\u001b[0m in \u001b[0;36m<module>\u001b[1;34m()\u001b[0m\n\u001b[0;32m     72\u001b[0m \u001b[1;33m\u001b[0m\u001b[0m\n\u001b[0;32m     73\u001b[0m \u001b[1;33m\u001b[0m\u001b[0m\n\u001b[1;32m---> 74\u001b[1;33m \u001b[0mmain\u001b[0m\u001b[1;33m(\u001b[0m\u001b[1;33m)\u001b[0m\u001b[1;33m\u001b[0m\u001b[0m\n\u001b[0m",
      "\u001b[1;32m<ipython-input-1-f98654364c20>\u001b[0m in \u001b[0;36mmain\u001b[1;34m()\u001b[0m\n\u001b[0;32m     47\u001b[0m                 \u001b[1;32melse\u001b[0m\u001b[1;33m:\u001b[0m\u001b[1;33m\u001b[0m\u001b[0m\n\u001b[0;32m     48\u001b[0m                         \u001b[0mprint\u001b[0m\u001b[1;33m(\u001b[0m\u001b[1;34m\" Template Not Found\"\u001b[0m\u001b[1;33m)\u001b[0m\u001b[1;33m\u001b[0m\u001b[0m\n\u001b[1;32m---> 49\u001b[1;33m                 \u001b[0mwriteImage\u001b[0m\u001b[1;33m(\u001b[0m\u001b[0mo_test_img\u001b[0m\u001b[1;33m,\u001b[0m \u001b[1;34m\"Pos\"\u001b[0m\u001b[1;33m+\u001b[0m\u001b[0mstr\u001b[0m\u001b[1;33m(\u001b[0m\u001b[0mi\u001b[0m\u001b[1;33m)\u001b[0m\u001b[1;33m)\u001b[0m\u001b[1;33m\u001b[0m\u001b[0m\n\u001b[0m\u001b[0;32m     50\u001b[0m         \u001b[0mprint\u001b[0m\u001b[1;33m(\u001b[0m\u001b[1;34m\"Positive images processed\"\u001b[0m\u001b[1;33m)\u001b[0m\u001b[1;33m\u001b[0m\u001b[0m\n\u001b[0;32m     51\u001b[0m         \u001b[1;32mfor\u001b[0m \u001b[0mi\u001b[0m \u001b[1;32min\u001b[0m \u001b[0mrange\u001b[0m\u001b[1;33m(\u001b[0m\u001b[1;36m1\u001b[0m\u001b[1;33m,\u001b[0m \u001b[0mnegative_img\u001b[0m\u001b[1;33m+\u001b[0m\u001b[1;36m1\u001b[0m\u001b[1;33m)\u001b[0m\u001b[1;33m:\u001b[0m\u001b[1;33m\u001b[0m\u001b[0m\n",
      "\u001b[1;31mNameError\u001b[0m: name 'writeImage' is not defined"
     ]
    }
   ],
   "source": [
    "import numpy as np\n",
    "import argparse, glob\n",
    "import cv2\n",
    "from cv2 import CV_8U as CONST_CV_8U, TM_CCOEFF as CONST_TM_CCOEFF, TM_CCORR as CONST_TM_CCORR\n",
    "from scipy.ndimage.filters import gaussian_filter\n",
    "\n",
    "negative_img = 10\n",
    "positive_img = 15\n",
    "templateLoc = 'C:/Users/Shraddha/Desktop/CVIP/Project_1/task3/template.png'\n",
    "posImgLoc_prefix = 'C:/Users/Shraddha/Desktop/CVIP/Project_1/task3/pos_'\n",
    "posImgLoc_suffix = '.jpg'\n",
    "negaImgLoc_prefix = 'C:/Users/Shraddha/Desktop/CVIP/Project_1/task3/neg_'\n",
    "negaImgLoc_suffix = '.jpg'\n",
    "\n",
    "\n",
    "def detectImage(img, outImageName):\n",
    "    #imwrite() save a image to a specified file\n",
    "\tcv2.imwrite('C:/Users/Shraddha/Desktop/CVIP/Project_1/OutputImage/Task3_'+outImageName+'.jpg', img)\n",
    "\treturn 1\n",
    "\tcv2.imshow(imgTitle, img)\n",
    "\tcv2.waitKey(0)\n",
    "\tcv2.destroyAllWindows()\n",
    "\n",
    "\n",
    "\n",
    "def main():\n",
    "\tprint(\"Process starts\")\n",
    "\ttemp_img = cv2.imread(templateLoc,0)\n",
    "\ttemp_img = cv2.resize(temp_img , (13,18))\n",
    "\ttemp_img = cv2.Laplacian(temp_img, CONST_CV_8U)\n",
    "\ttemp_img = cv2.GaussianBlur(temp_img, (3,3),0)\n",
    "\tsharpeningKernel = sharpeningKernel = np.array([ [-1,-1,-1], [-1, 9,-1], [-1,-1,-1] ])\n",
    "\tfor i in range(1, positive_img+1):\n",
    "\t\timgLoc = posImgLoc_prefix+str(i)+posImgLoc_suffix\n",
    "\t\tprint(\"Image at '\"+imgLoc+\"'\")\n",
    "\t\to_test_img= cv2.imread(imgLoc,0) #loading the original test image from the specified location\n",
    "\t\ttest_img = o_test_img.copy()\n",
    "\t\ttest_img = cv2.Laplacian(test_img, CONST_CV_8U) #it calculates the Laplacian of an image\n",
    "\t\ttest_img = cv2.GaussianBlur(test_img, (3,3), 0) #Blurs an image using GaussianFilter\n",
    "\t\ttest_img = cv2.filter2D(test_img, -1, sharpeningKernel)\n",
    "\t\tresult = cv2.matchTemplate(test_img, temp_img, CONST_TM_CCOEFF)\n",
    "\t\tmin_val, max_val, min_loc, max_loc = cv2.minMaxLoc(result)\n",
    "\t\tif (max_val>400000):\n",
    "\t\t\tprint(\"\tTemplate Found\")\n",
    "\t\t\to_test_img = np.dstack([o_test_img, o_test_img, o_test_img])\n",
    "\t\t\tcv2.rectangle(o_test_img, (max_loc[0], max_loc[1]), (max_loc[0]+temp_img.shape[1], max_loc[1]+temp_img.shape[0]), (0, 255, 255), 2)\n",
    "\t\telse:\n",
    "\t\t\tprint(\"\tTemplate Not Found\")\n",
    "\t\twriteImage(o_test_img, \"Pos\"+str(i))\n",
    "\tprint(\"Positive images processed\")\n",
    "\tfor i in range(1, negative_img+1):\n",
    "\t\tif (i==7):\n",
    "\t\t\tcontinue\n",
    "\t\timgLoc = negaImgLoc_prefix+str(i)+negaImgLoc_suffix\n",
    "\t\tprint(\"Image at '\"+imgLoc+\"'\")\n",
    "\t\to_test_img = cv2.imread(imgLoc,0)\n",
    "\t\ttest_img = o_test_img.copy()\n",
    "\t\ttest_img = cv2.Laplacian(test_img, CONST_CV_8U)\n",
    "\t\ttest_img = cv2.GaussianBlur(test_img, (3,3), 0)\n",
    "\t\ttest_img = cv2.filter2D(test_img, -1, sharpeningKernel)\n",
    "\t\tresult = cv2.matchTemplate(test_img, temp_img, CONST_TM_CCOEFF)\n",
    "\t\tmin_val, max_val, min_loc, max_loc = cv2.minMaxLoc(result)\n",
    "\t\tif (max_val>400000):\n",
    "\t\t\tprint(\"\tTemplate Found\")\n",
    "\t\t\to_test_img = np.dstack([o_test_img, o_test_img, o_test_img])\n",
    "\t\t\tcv2.rectangle(o_test_img, (max_loc[0], max_loc[1]), (max_loc[0]+temp_img.shape[1], max_loc[1]+temp_img.shape[0]), (0, 255, 255), 2)\n",
    "\t\telse:\n",
    "\t\t\tprint(\"\tTemplate Not Found\")\n",
    "\t\twriteImage(o_test_img, \"Neg\"+str(i))\n",
    "\tprint(\"Negative images processed\")\n",
    "\tprint(\"Process ends\")\n",
    "\n",
    "\n",
    "main()"
   ]
  }
 ],
 "metadata": {
  "kernelspec": {
   "display_name": "Python 3",
   "language": "python",
   "name": "python3"
  },
  "language_info": {
   "codemirror_mode": {
    "name": "ipython",
    "version": 3
   },
   "file_extension": ".py",
   "mimetype": "text/x-python",
   "name": "python",
   "nbconvert_exporter": "python",
   "pygments_lexer": "ipython3",
   "version": "3.6.5"
  }
 },
 "nbformat": 4,
 "nbformat_minor": 2
}
